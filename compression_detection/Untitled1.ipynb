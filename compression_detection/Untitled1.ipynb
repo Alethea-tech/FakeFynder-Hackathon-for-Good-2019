{
 "cells": [
  {
   "cell_type": "code",
   "execution_count": 1,
   "metadata": {},
   "outputs": [],
   "source": [
    "%load_ext autoreload\n",
    "%autoreload 2\n",
    "%matplotlib inline"
   ]
  },
  {
   "cell_type": "code",
   "execution_count": 5,
   "metadata": {},
   "outputs": [],
   "source": [
    "from sklearn.tree import DecisionTreeClassifier\n",
    "from sklearn.model_selection import train_test_split\n",
    "import os"
   ]
  },
  {
   "cell_type": "code",
   "execution_count": 12,
   "metadata": {},
   "outputs": [
    {
     "name": "stdout",
     "output_type": "stream",
     "text": [
      "['__class__', '__delattr__', '__dir__', '__doc__', '__eq__', '__format__', '__fspath__', '__ge__', '__getattribute__', '__gt__', '__hash__', '__init__', '__init_subclass__', '__le__', '__lt__', '__ne__', '__new__', '__reduce__', '__reduce_ex__', '__repr__', '__setattr__', '__sizeof__', '__str__', '__subclasshook__', 'inode', 'is_dir', 'is_file', 'is_symlink', 'name', 'path', 'stat']\n",
      "['__class__', '__delattr__', '__dir__', '__doc__', '__eq__', '__format__', '__fspath__', '__ge__', '__getattribute__', '__gt__', '__hash__', '__init__', '__init_subclass__', '__le__', '__lt__', '__ne__', '__new__', '__reduce__', '__reduce_ex__', '__repr__', '__setattr__', '__sizeof__', '__str__', '__subclasshook__', 'inode', 'is_dir', 'is_file', 'is_symlink', 'name', 'path', 'stat']\n"
     ]
    }
   ],
   "source": [
    "model = DecisionTreeClassifier()\n",
    "target_path = '../data/'\n",
    "scandir = os.scandir(target_path)\n",
    "metadata_agg = []\n",
    "classes = []\n",
    "for p in scandir:\n",
    "    if p.is_dir:\n",
    "        for o in os.scandir(p.path):\n",
    "            metadata_agg.append(findVideoMetada(o.path)[0])\n",
    "#             fileinfo = {}\n",
    "            classes.append(p.name)\n",
    "data = pd.DataFrame(metadata_agg)\n",
    "# data['class'] = classes\n"
   ]
  },
  {
   "cell_type": "code",
   "execution_count": null,
   "metadata": {},
   "outputs": [],
   "source": [
    "x_train, x_test, y_train, y_test = train_test_split(data, classes, test_size=0.2, shuffle=True)\n",
    "model.fit(x_train, y_train)\n",
    "model.score(x_test, y_test)"
   ]
  },
  {
   "cell_type": "code",
   "execution_count": 9,
   "metadata": {},
   "outputs": [
    {
     "ename": "AttributeError",
     "evalue": "'builtin_function_or_method' object has no attribute 'subdirs'",
     "output_type": "error",
     "traceback": [
      "\u001b[1;31m---------------------------------------------------------------------------\u001b[0m",
      "\u001b[1;31mAttributeError\u001b[0m                            Traceback (most recent call last)",
      "\u001b[1;32m<ipython-input-9-c7e3850615cd>\u001b[0m in \u001b[0;36m<module>\u001b[1;34m\u001b[0m\n\u001b[1;32m----> 1\u001b[1;33m \u001b[0mos\u001b[0m\u001b[1;33m.\u001b[0m\u001b[0mscandir\u001b[0m\u001b[1;33m.\u001b[0m\u001b[0msubdirs\u001b[0m\u001b[1;33m(\u001b[0m\u001b[1;34m'../data'\u001b[0m\u001b[1;33m)\u001b[0m\u001b[1;33m\u001b[0m\u001b[1;33m\u001b[0m\u001b[0m\n\u001b[0m",
      "\u001b[1;31mAttributeError\u001b[0m: 'builtin_function_or_method' object has no attribute 'subdirs'"
     ]
    }
   ],
   "source": [
    "os.scandir.subdirs('../data')"
   ]
  },
  {
   "cell_type": "code",
   "execution_count": null,
   "metadata": {},
   "outputs": [],
   "source": [
    "[{'index': 0,\n",
    "  'codec_name': 'h264',\n",
    "  'codec_long_name': 'H.264 / AVC / MPEG-4 AVC / MPEG-4 part 10',\n",
    "  'profile': 'High 4:4:4 Predictive',\n",
    "  'codec_type': 'video',\n",
    "  'codec_time_base': '1/50',\n",
    "  'codec_tag_string': 'avc1',\n",
    "  'codec_tag': '0x31637661',\n",
    "  'width': 640,\n",
    "  'height': 480,\n",
    "  'coded_width': 640,\n",
    "  'coded_height': 480,\n",
    "  'has_b_frames': 2,\n",
    "  'pix_fmt': 'yuv444p',\n",
    "  'level': 30,\n",
    "  'chroma_location': 'left',\n",
    "  'refs': 1,\n",
    "  'is_avc': 'true',\n",
    "  'nal_length_size': '4',\n",
    "  'r_frame_rate': '25/1',\n",
    "  'avg_frame_rate': '25/1',\n",
    "  'time_base': '1/12800',\n",
    "  'start_pts': 0,\n",
    "  'start_time': '0.000000',\n",
    "  'duration_ts': 202752,\n",
    "  'duration': '15.840000',\n",
    "  'bit_rate': '402660',\n",
    "  'bits_per_raw_sample': '8',\n",
    "  'nb_frames': '396',\n",
    "  'disposition': {'default': 1,\n",
    "   'dub': 0,\n",
    "   'original': 0,\n",
    "   'comment': 0,\n",
    "   'lyrics': 0,\n",
    "   'karaoke': 0,\n",
    "   'forced': 0,\n",
    "   'hearing_impaired': 0,\n",
    "   'visual_impaired': 0,\n",
    "   'clean_effects': 0,\n",
    "   'attached_pic': 0,\n",
    "   'timed_thumbnails': 0},\n",
    "  'tags': {'language': 'und', 'handler_name': 'VideoHandler'}}]"
   ]
  }
 ],
 "metadata": {
  "kernelspec": {
   "display_name": "fastai (3.6.7)",
   "language": "python",
   "name": "fastai"
  },
  "language_info": {
   "codemirror_mode": {
    "name": "ipython",
    "version": 3
   },
   "file_extension": ".py",
   "mimetype": "text/x-python",
   "name": "python",
   "nbconvert_exporter": "python",
   "pygments_lexer": "ipython3",
   "version": "3.7.2"
  }
 },
 "nbformat": 4,
 "nbformat_minor": 2
}
