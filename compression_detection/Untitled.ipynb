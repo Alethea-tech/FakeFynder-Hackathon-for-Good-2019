{
 "cells": [
  {
   "cell_type": "code",
   "execution_count": 1,
   "metadata": {},
   "outputs": [],
   "source": [
    "%load_ext autoreload\n",
    "%autoreload 2\n",
    "%matplotlib inline"
   ]
  },
  {
   "cell_type": "code",
   "execution_count": 10,
   "metadata": {},
   "outputs": [],
   "source": [
    "from sklearn.tree import DecisionTreeClassifier\n",
    "import pandas as pd\n",
    "import numpy as np\n",
    "import os\n",
    "from tqdm import tqdm"
   ]
  },
  {
   "cell_type": "code",
   "execution_count": 3,
   "metadata": {},
   "outputs": [],
   "source": [
    "import subprocess\n",
    "import shlex\n",
    "import json\n",
    "\n",
    "def findVideoMetada(pathToInputVideo):\n",
    "    cmd = \"ffprobe -v quiet -print_format json -show_streams\"\n",
    "    args = shlex.split(cmd)\n",
    "    args.append(pathToInputVideo)\n",
    "    ffprobeOutput = subprocess.check_output(args).decode('utf-8')\n",
    "    ffprobeOutput = json.loads(ffprobeOutput)\n",
    "\n",
    "#     import pprint\n",
    "#     pp = pprint.PrettyPrinter(indent=2)\n",
    "#     pp.pprint(ffprobeOutput)\n",
    "\n",
    "    # for example, find height and width\n",
    "#     height = ffprobeOutput['streams'][0]['height']\n",
    "#     width = ffprobeOutput['streams'][0]['width']\n",
    "    return ffprobeOutput['streams']"
   ]
  },
  {
   "cell_type": "code",
   "execution_count": 4,
   "metadata": {},
   "outputs": [
    {
     "data": {
      "text/plain": [
       "[{'index': 0,\n",
       "  'codec_name': 'h264',\n",
       "  'codec_long_name': 'H.264 / AVC / MPEG-4 AVC / MPEG-4 part 10',\n",
       "  'profile': 'High 4:4:4 Predictive',\n",
       "  'codec_type': 'video',\n",
       "  'codec_time_base': '1/50',\n",
       "  'codec_tag_string': 'avc1',\n",
       "  'codec_tag': '0x31637661',\n",
       "  'width': 640,\n",
       "  'height': 480,\n",
       "  'coded_width': 640,\n",
       "  'coded_height': 480,\n",
       "  'has_b_frames': 2,\n",
       "  'pix_fmt': 'yuv444p',\n",
       "  'level': 30,\n",
       "  'chroma_location': 'left',\n",
       "  'refs': 1,\n",
       "  'is_avc': 'true',\n",
       "  'nal_length_size': '4',\n",
       "  'r_frame_rate': '25/1',\n",
       "  'avg_frame_rate': '25/1',\n",
       "  'time_base': '1/12800',\n",
       "  'start_pts': 0,\n",
       "  'start_time': '0.000000',\n",
       "  'duration_ts': 202752,\n",
       "  'duration': '15.840000',\n",
       "  'bit_rate': '402660',\n",
       "  'bits_per_raw_sample': '8',\n",
       "  'nb_frames': '396',\n",
       "  'disposition': {'default': 1,\n",
       "   'dub': 0,\n",
       "   'original': 0,\n",
       "   'comment': 0,\n",
       "   'lyrics': 0,\n",
       "   'karaoke': 0,\n",
       "   'forced': 0,\n",
       "   'hearing_impaired': 0,\n",
       "   'visual_impaired': 0,\n",
       "   'clean_effects': 0,\n",
       "   'attached_pic': 0,\n",
       "   'timed_thumbnails': 0},\n",
       "  'tags': {'language': 'und', 'handler_name': 'VideoHandler'}}]"
      ]
     },
     "execution_count": 4,
     "metadata": {},
     "output_type": "execute_result"
    }
   ],
   "source": [
    "findVideoMetada('../data/original/000.mp4')"
   ]
  },
  {
   "cell_type": "code",
   "execution_count": 11,
   "metadata": {},
   "outputs": [
    {
     "name": "stderr",
     "output_type": "stream",
     "text": [
      "1001it [3:04:34, 11.58s/it]\n"
     ]
    }
   ],
   "source": [
    "def create_compressed_dataset(source_path, target_path):\n",
    "    for i in tqdm(os.scandir(source_path)):\n",
    "        path = i.path.replace('\\\\', '/')\n",
    "        metadata = findVideoMetada(path)\n",
    "        assert len(metadata) in [1, 2], f'{metadata}'\n",
    "        old_bitrate = int(metadata[0]['bit_rate'])\n",
    "        bitrate_percentages = [0.77, 0.6]\n",
    "        crfs = [23, 40]\n",
    "        new_bitrates = [int(old_bitrate*perc) for perc in bitrate_percentages]\n",
    "        \n",
    "        if not os.path.exists(f'{target_path}'):\n",
    "            os.mkdir(f'{target_path}')\n",
    "        \n",
    "        for perc, bitrate, crf in zip(bitrate_percentages, new_bitrates, crfs):\n",
    "            if not os.path.exists(f'{target_path}/{perc}'):\n",
    "                os.mkdir(f'{target_path}/{perc}')\n",
    "            cmd = f'ffmpeg -y -i {path} -c:v libx264 -crf {crf} {target_path}/{perc}/{i.name}'\n",
    "            args = shlex.split(cmd)\n",
    "            ffprobeOutput = subprocess.check_output(args).decode('utf-8')\n",
    "            \n",
    "create_compressed_dataset('../data/original', '../data/output')"
   ]
  },
  {
   "cell_type": "code",
   "execution_count": 18,
   "metadata": {},
   "outputs": [
    {
     "name": "stdout",
     "output_type": "stream",
     "text": [
      "../data\\000.mp4\n",
      "../data\\001.mp4\n",
      "../data\\002.mp4\n",
      "../data\\007.mp4\n",
      "../data\\obama_fake.mp4\n"
     ]
    }
   ],
   "source": [
    "import os\n",
    "for i in os.scandir('../data'):\n",
    "    print(i.path)"
   ]
  },
  {
   "cell_type": "code",
   "execution_count": 20,
   "metadata": {},
   "outputs": [
    {
     "data": {
      "text/plain": [
       "'C:\\\\Users\\\\C64062\\\\Documents\\\\FaceForensics\\\\compression_detection\\\\You Won’t Believe What Obama Says In This Video! 😉.mp4'"
      ]
     },
     "execution_count": 20,
     "metadata": {},
     "output_type": "execute_result"
    }
   ],
   "source": [
    "from pytube import YouTube\n",
    "YouTube('https://www.youtube.com/watch?v=cQ54GDm1eL0').streams.first().download()"
   ]
  },
  {
   "cell_type": "code",
   "execution_count": null,
   "metadata": {},
   "outputs": [],
   "source": [
    "model = DecisionTreeClassifier()\n",
    "target_path = '../data/'\n",
    "for p in os.scandir(target_path)"
   ]
  }
 ],
 "metadata": {
  "kernelspec": {
   "display_name": "fastai (3.6.7)",
   "language": "python",
   "name": "fastai"
  },
  "language_info": {
   "codemirror_mode": {
    "name": "ipython",
    "version": 3
   },
   "file_extension": ".py",
   "mimetype": "text/x-python",
   "name": "python",
   "nbconvert_exporter": "python",
   "pygments_lexer": "ipython3",
   "version": "3.7.2"
  }
 },
 "nbformat": 4,
 "nbformat_minor": 2
}
